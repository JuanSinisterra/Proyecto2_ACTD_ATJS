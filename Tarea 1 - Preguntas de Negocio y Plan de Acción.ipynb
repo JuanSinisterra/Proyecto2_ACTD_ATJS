{
 "cells": [
  {
   "cell_type": "markdown",
   "metadata": {},
   "source": [
    "# Tarea 1 - Preguntas de negocio y plan de acción"
   ]
  },
  {
   "cell_type": "markdown",
   "metadata": {},
   "source": [
    "## Preguntas de negocio"
   ]
  },
  {
   "cell_type": "markdown",
   "metadata": {},
   "source": [
    "### -\t¿Qué factores son las que influyen en el default en clientes de tarjetas de crédito?\n",
    "### -\t¿ ¿Qué factores son las que maximizan el default en clientes de tarjetas de crédito?\n",
    "\n"
   ]
  },
  {
   "cell_type": "markdown",
   "metadata": {},
   "source": [
    "## Plan de acción"
   ]
  },
  {
   "cell_type": "markdown",
   "metadata": {},
   "source": [
    "#### Considerando que las preguntas se centran en qué factores y características influyen en el incumplimiento de pago en clientes de tarjetas de crédito, se ha pensado en un plan de acción inicial que consiste en revisar la base de datos para identificar los casos de incumplimiento y así determinar qué características comparten estas entradas. De esta manera, podremos identificar las más frecuentes y determinar cuáles son las que maximizan el incumplimiento en clientes de tarjetas de crédito."
   ]
  },
  {
   "cell_type": "markdown",
   "metadata": {},
   "source": [
    "#### Una vez completada esta etapa, procederemos al desarrollo de un modelo predictivo de clasificación basado en redes neuronales. Este modelo nos permitirá pronosticar el incumplimiento de un cliente a partir de una serie de datos o características que el usuario pueda ingresar en un tablero virtual de dashboard. Una vez que el usuario utilice el tablero, este le mostrará qué características son las más importantes para obtener el resultado predictivo (si hace o no hace default)."
   ]
  },
  {
   "cell_type": "markdown",
   "metadata": {},
   "source": [
    "#### Con este plan de acción, nuestro objetivo es responder a las preguntas planteadas y desarrollar un tablero efectivo en el que el usuario pueda identificar fácilmente si existe riesgo de incumplimiento según una serie de características específicas.\""
   ]
  }
 ],
 "metadata": {
  "language_info": {
   "name": "python"
  }
 },
 "nbformat": 4,
 "nbformat_minor": 2
}
