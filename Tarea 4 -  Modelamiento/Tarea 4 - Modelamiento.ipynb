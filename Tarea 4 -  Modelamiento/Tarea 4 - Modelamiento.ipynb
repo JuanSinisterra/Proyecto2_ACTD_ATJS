{
 "cells": [
  {
   "cell_type": "markdown",
   "metadata": {},
   "source": [
    "# Modelamiento"
   ]
  },
  {
   "cell_type": "markdown",
   "metadata": {},
   "source": [
    "## Importar datos"
   ]
  },
  {
   "cell_type": "code",
   "execution_count": 5,
   "metadata": {},
   "outputs": [],
   "source": [
    "import sys\n",
    "from packaging import version\n",
    "import sklearn\n",
    "import tensorflow as tf\n",
    "import pandas as pd\n",
    "import matplotlib.pyplot as plt\n",
    "from sklearn.model_selection import train_test_split\n",
    "\n",
    "df=pd.read_csv(\"DataFrameFinal.csv\")"
   ]
  },
  {
   "cell_type": "code",
   "execution_count": 6,
   "metadata": {},
   "outputs": [],
   "source": [
    "features = [\"X1\",\"X2\",\"X3\",\"X4\",\"X5\",\"X6\",\"X7\",\"X8\",\"X9\",\"X10\",\"X11\",\"X24\",\"X25\",\"X26\",\"X27\",\"X28\",\"X29\"]\n",
    "\n",
    "X = df[features]\n",
    "y = df['Y']\n",
    "\n",
    "X_train, X_test, y_train, y_test = train_test_split(X, y, random_state=42)"
   ]
  },
  {
   "cell_type": "code",
   "execution_count": 7,
   "metadata": {},
   "outputs": [
    {
     "data": {
      "text/plain": [
       "(19187, 17)"
      ]
     },
     "execution_count": 7,
     "metadata": {},
     "output_type": "execute_result"
    }
   ],
   "source": [
    "X_train.shape"
   ]
  },
  {
   "cell_type": "code",
   "execution_count": 13,
   "metadata": {},
   "outputs": [],
   "source": [
    "tf.keras.backend.clear_session()\n",
    "tf.random.set_seed(42)\n",
    "model = tf.keras.Sequential()\n",
    "model.add(tf.keras.layers.InputLayer(input_shape=[17]))\n",
    "model.add(tf.keras.layers.Flatten())\n",
    "model.add(tf.keras.layers.Dense(300, activation=\"relu\"))\n",
    "model.add(tf.keras.layers.Dense(100, activation=\"relu\"))\n",
    "model.add(tf.keras.layers.Dense(10, activation=\"softmax\"))"
   ]
  },
  {
   "cell_type": "code",
   "execution_count": 14,
   "metadata": {},
   "outputs": [
    {
     "name": "stdout",
     "output_type": "stream",
     "text": [
      "Model: \"sequential\"\n",
      "_________________________________________________________________\n",
      " Layer (type)                Output Shape              Param #   \n",
      "=================================================================\n",
      " flatten (Flatten)           (None, 17)                0         \n",
      "                                                                 \n",
      " dense (Dense)               (None, 300)               5400      \n",
      "                                                                 \n",
      " dense_1 (Dense)             (None, 100)               30100     \n",
      "                                                                 \n",
      " dense_2 (Dense)             (None, 10)                1010      \n",
      "                                                                 \n",
      "=================================================================\n",
      "Total params: 36510 (142.62 KB)\n",
      "Trainable params: 36510 (142.62 KB)\n",
      "Non-trainable params: 0 (0.00 Byte)\n",
      "_________________________________________________________________\n"
     ]
    }
   ],
   "source": [
    "model.summary()"
   ]
  },
  {
   "cell_type": "code",
   "execution_count": 15,
   "metadata": {},
   "outputs": [],
   "source": [
    "model.compile(loss=\"sparse_categorical_crossentropy\",\n",
    "              optimizer=\"sgd\",\n",
    "              metrics=[\"accuracy\"])"
   ]
  },
  {
   "cell_type": "code",
   "execution_count": 16,
   "metadata": {},
   "outputs": [
    {
     "name": "stdout",
     "output_type": "stream",
     "text": [
      "Epoch 1/10\n",
      "600/600 [==============================] - 3s 4ms/step - loss: 6640376320.0000 - accuracy: 0.7599 - val_loss: 0.9217 - val_accuracy: 0.7621\n",
      "Epoch 2/10\n",
      "600/600 [==============================] - 2s 3ms/step - loss: 0.8122 - accuracy: 0.7621 - val_loss: 0.7393 - val_accuracy: 0.7621\n",
      "Epoch 3/10\n",
      "600/600 [==============================] - 2s 3ms/step - loss: 0.7007 - accuracy: 0.7621 - val_loss: 0.6707 - val_accuracy: 0.7621\n",
      "Epoch 4/10\n",
      "600/600 [==============================] - 2s 4ms/step - loss: 0.6517 - accuracy: 0.7621 - val_loss: 0.6362 - val_accuracy: 0.7621\n",
      "Epoch 5/10\n",
      "600/600 [==============================] - 2s 3ms/step - loss: 0.6255 - accuracy: 0.7621 - val_loss: 0.6163 - val_accuracy: 0.7621\n",
      "Epoch 6/10\n",
      "600/600 [==============================] - 2s 3ms/step - loss: 0.6096 - accuracy: 0.7621 - val_loss: 0.6035 - val_accuracy: 0.7621\n",
      "Epoch 7/10\n",
      "600/600 [==============================] - 2s 3ms/step - loss: 0.5989 - accuracy: 0.7621 - val_loss: 0.5947 - val_accuracy: 0.7621\n",
      "Epoch 8/10\n",
      "600/600 [==============================] - 2s 4ms/step - loss: 0.5914 - accuracy: 0.7621 - val_loss: 0.5883 - val_accuracy: 0.7621\n",
      "Epoch 9/10\n",
      "600/600 [==============================] - 2s 4ms/step - loss: 0.5858 - accuracy: 0.7621 - val_loss: 0.5833 - val_accuracy: 0.7621\n",
      "Epoch 10/10\n",
      "600/600 [==============================] - 2s 4ms/step - loss: 0.5814 - accuracy: 0.7621 - val_loss: 0.5795 - val_accuracy: 0.7621\n"
     ]
    }
   ],
   "source": [
    "history = model.fit(X_train, y_train, epochs=10,\n",
    "                    validation_data=(X_train, y_train))"
   ]
  },
  {
   "cell_type": "code",
   "execution_count": 23,
   "metadata": {},
   "outputs": [
    {
     "name": "stdout",
     "output_type": "stream",
     "text": [
      "Epoch 1/10\n",
      "512/512 [==============================] - 2s 2ms/step - loss: 0.4767 - accuracy: 0.7967 - val_loss: 0.4707 - val_accuracy: 0.7995\n",
      "Epoch 2/10\n",
      "512/512 [==============================] - 1s 2ms/step - loss: 0.4583 - accuracy: 0.8050 - val_loss: 0.4669 - val_accuracy: 0.8043\n",
      "Epoch 3/10\n",
      "512/512 [==============================] - 1s 2ms/step - loss: 0.4551 - accuracy: 0.8069 - val_loss: 0.4673 - val_accuracy: 0.8036\n",
      "Epoch 4/10\n",
      "512/512 [==============================] - 1s 2ms/step - loss: 0.4562 - accuracy: 0.8061 - val_loss: 0.4672 - val_accuracy: 0.8043\n",
      "Epoch 5/10\n",
      "512/512 [==============================] - 1s 2ms/step - loss: 0.4551 - accuracy: 0.8066 - val_loss: 0.4701 - val_accuracy: 0.8024\n",
      "Epoch 6/10\n",
      "512/512 [==============================] - 1s 2ms/step - loss: 0.4531 - accuracy: 0.8079 - val_loss: 0.4706 - val_accuracy: 0.7985\n",
      "Epoch 7/10\n",
      "512/512 [==============================] - 1s 2ms/step - loss: 0.4518 - accuracy: 0.8108 - val_loss: 0.4930 - val_accuracy: 0.7946\n",
      "Epoch 8/10\n",
      "512/512 [==============================] - 1s 2ms/step - loss: 0.4525 - accuracy: 0.8083 - val_loss: 0.4666 - val_accuracy: 0.8053\n",
      "Epoch 9/10\n",
      "512/512 [==============================] - 1s 2ms/step - loss: 0.4515 - accuracy: 0.8079 - val_loss: 0.4656 - val_accuracy: 0.8053\n",
      "Epoch 10/10\n",
      "512/512 [==============================] - 1s 2ms/step - loss: 0.4507 - accuracy: 0.8113 - val_loss: 0.4655 - val_accuracy: 0.8046\n",
      "160/160 [==============================] - 0s 1ms/step - loss: 0.4482 - accuracy: 0.8114\n",
      "Test Accuracy: 0.8114129304885864\n"
     ]
    }
   ],
   "source": [
    "import pandas as pd\n",
    "from sklearn.model_selection import train_test_split\n",
    "from tensorflow import keras\n",
    "from tensorflow.keras import layers\n",
    "\n",
    "# Assuming df is your dataframe containing the relevant columns\n",
    "X = df[[ 'X2', 'X3', 'X4', 'X5', 'X6', 'X7', 'X8', 'X9', 'X10', 'X11','X24', 'X25', 'X26', 'X27', 'X28', 'X29']]\n",
    "Y = df['Y']\n",
    "\n",
    "# Split the data into training and testing sets\n",
    "X_train, X_test, Y_train, Y_test = train_test_split(X, Y, test_size=0.2, random_state=42)\n",
    "\n",
    "# Define the architecture of the neural network\n",
    "model = keras.Sequential([\n",
    "    layers.Dense(64, activation='relu', input_shape=(X_train.shape[1],)),\n",
    "    layers.Dense(32, activation='relu'),\n",
    "    layers.Dense(1, activation='sigmoid')\n",
    "])\n",
    "\n",
    "# Compile the model\n",
    "model.compile(optimizer='adam', loss='binary_crossentropy', metrics=['accuracy'])\n",
    "\n",
    "# Train the model\n",
    "history = model.fit(X_train, Y_train, epochs=10, batch_size=32, validation_split=0.2)\n",
    "\n",
    "# Evaluate the model\n",
    "test_loss, test_accuracy = model.evaluate(X_test, Y_test)\n",
    "print(\"Test Accuracy:\", test_accuracy)"
   ]
  },
  {
   "cell_type": "code",
   "execution_count": 26,
   "metadata": {},
   "outputs": [
    {
     "name": "stdout",
     "output_type": "stream",
     "text": [
      "Epoch 1/10\n",
      "512/512 [==============================] - 2s 3ms/step - loss: 0.4706 - accuracy: 0.8002 - val_loss: 0.4686 - val_accuracy: 0.8031\n",
      "Epoch 2/10\n",
      "512/512 [==============================] - 1s 3ms/step - loss: 0.4573 - accuracy: 0.8066 - val_loss: 0.4678 - val_accuracy: 0.8051\n",
      "Epoch 3/10\n",
      "512/512 [==============================] - 2s 3ms/step - loss: 0.4539 - accuracy: 0.8073 - val_loss: 0.4662 - val_accuracy: 0.8034\n",
      "Epoch 4/10\n",
      "512/512 [==============================] - 1s 2ms/step - loss: 0.4546 - accuracy: 0.8070 - val_loss: 0.4668 - val_accuracy: 0.8029\n",
      "Epoch 5/10\n",
      "512/512 [==============================] - 2s 4ms/step - loss: 0.4540 - accuracy: 0.8078 - val_loss: 0.4687 - val_accuracy: 0.8043\n",
      "Epoch 6/10\n",
      "512/512 [==============================] - 1s 3ms/step - loss: 0.4522 - accuracy: 0.8086 - val_loss: 0.4681 - val_accuracy: 0.8031\n",
      "Epoch 7/10\n",
      "512/512 [==============================] - 1s 2ms/step - loss: 0.4511 - accuracy: 0.8103 - val_loss: 0.4855 - val_accuracy: 0.7951\n",
      "Epoch 8/10\n",
      "512/512 [==============================] - 1s 2ms/step - loss: 0.4518 - accuracy: 0.8102 - val_loss: 0.4666 - val_accuracy: 0.8046\n",
      "Epoch 9/10\n",
      "512/512 [==============================] - 2s 3ms/step - loss: 0.4511 - accuracy: 0.8078 - val_loss: 0.4659 - val_accuracy: 0.8051\n",
      "Epoch 10/10\n",
      "512/512 [==============================] - 1s 2ms/step - loss: 0.4509 - accuracy: 0.8116 - val_loss: 0.4653 - val_accuracy: 0.8053\n",
      "160/160 [==============================] - 0s 1ms/step - loss: 0.4500 - accuracy: 0.8120\n",
      "Test Accuracy: 0.8119992017745972\n"
     ]
    }
   ],
   "source": [
    "import pandas as pd\n",
    "from sklearn.model_selection import train_test_split\n",
    "from tensorflow import keras\n",
    "from tensorflow.keras import layers\n",
    "\n",
    "# Assuming df is your dataframe containing the relevant columns\n",
    "X = df[['X2','X3', 'X4', 'X5', 'X6', 'X7', 'X8', 'X9', 'X10', 'X11','X24', 'X25', 'X26', 'X27', 'X28', 'X29']]\n",
    "Y = df['Y']\n",
    "\n",
    "# Split the data into training and testing sets\n",
    "X_train, X_test, Y_train, Y_test = train_test_split(X, Y, test_size=0.2, random_state=42)\n",
    "\n",
    "# Define the architecture of the neural network\n",
    "model = keras.Sequential([\n",
    "    layers.Dense(64, activation='relu', input_shape=(X_train.shape[1],)),\n",
    "    layers.Dense(32, activation='relu'),\n",
    "    layers.Dense(1, activation='sigmoid')\n",
    "])\n",
    "\n",
    "# Compile the model\n",
    "model.compile(optimizer='adam', loss='binary_crossentropy', metrics=['accuracy'])\n",
    "\n",
    "# Train the model\n",
    "history = model.fit(X_train, Y_train, epochs=10, batch_size=32, validation_split=0.2)\n",
    "\n",
    "# Evaluate the model\n",
    "test_loss, test_accuracy = model.evaluate(X_test, Y_test)\n",
    "print(\"Test Accuracy:\", test_accuracy)"
   ]
  }
 ],
 "metadata": {
  "kernelspec": {
   "display_name": "Python 3",
   "language": "python",
   "name": "python3"
  },
  "language_info": {
   "codemirror_mode": {
    "name": "ipython",
    "version": 3
   },
   "file_extension": ".py",
   "mimetype": "text/x-python",
   "name": "python",
   "nbconvert_exporter": "python",
   "pygments_lexer": "ipython3",
   "version": "3.11.7"
  }
 },
 "nbformat": 4,
 "nbformat_minor": 2
}
