{
 "cells": [
  {
   "cell_type": "markdown",
   "metadata": {},
   "source": [
    "# Modelamiento"
   ]
  },
  {
   "cell_type": "markdown",
   "metadata": {},
   "source": [
    "*X1: Credito dado en Nuevos Dolares Taiwaneses.*\n",
    "\n",
    "*X2: Genero: 1 = masculino, 2 = femenino.*\n",
    "\n",
    "*X3: Educación: 1 = Postgrado, 2 = Universitario, 3 = Bachillerato, 4 = otro.*\n",
    "\n",
    "*X4: Estado marital: 1 = casado/a, 2 = soltero/a, 3 = otro.*\n",
    "\n",
    "*X5: Edad en años.*\n",
    "\n",
    "*X6 - X11: Estado de la deuda entre Abril y Septiembre 2005. X6 corresponde a Septiembre 2005 y X11 corresponde a Abril 2005. Los valores hacen referencia a: Pagado = -1, Pago atrasado 1 mes = 1, Pago atrasado 2 meses = 2, .... , Pago atrasado 8 meses = 8, Pago atrasado 9 meses o más = 9.*\n",
    "\n",
    "*X12 - X17: Saldo pendiente por pagar en Nuevos Dolares Taiwaneses. X12 corresponde a Septiembre 2005 y X17 corresponde a Abril 2005.*\n",
    "\n",
    "*X18 - X23: Pago de deuda en un mes en Nuevos Dolares Taiwaneses. X18 corresponde al pago en el mes de Septiembre 2005 y X23 corresponde al pago en el mes de Abril 2005.*\n",
    "\n",
    "*Y: Variable de respuesta donde se determina si un pago hace \"default\" el proximo mes. Toma el valor de 1 si el pago hace default, 0 si no hace default.*"
   ]
  },
  {
   "cell_type": "markdown",
   "metadata": {},
   "source": [
    "## Importar datos"
   ]
  },
  {
   "cell_type": "code",
   "execution_count": 1,
   "metadata": {},
   "outputs": [],
   "source": [
    "import sys\n",
    "from packaging import version\n",
    "import sklearn\n",
    "import tensorflow as tf\n",
    "import pandas as pd\n",
    "import matplotlib.pyplot as plt\n",
    "from sklearn.model_selection import train_test_split\n",
    "\n",
    "df=pd.read_csv(\"Datos Modelamiento.csv\")"
   ]
  },
  {
   "cell_type": "markdown",
   "metadata": {},
   "source": [
    "## Se inicia con la búsqueda de aquellos parámetros (x´s) que me mejoran el Test Accuracy"
   ]
  },
  {
   "cell_type": "markdown",
   "metadata": {},
   "source": [
    "### Todas las variables"
   ]
  },
  {
   "cell_type": "code",
   "execution_count": 2,
   "metadata": {},
   "outputs": [
    {
     "name": "stdout",
     "output_type": "stream",
     "text": [
      "Epoch 1/10\n"
     ]
    },
    {
     "name": "stderr",
     "output_type": "stream",
     "text": [
      "c:\\Users\\ATova\\AppData\\Local\\Programs\\Python\\Python311\\Lib\\site-packages\\keras\\src\\layers\\core\\dense.py:87: UserWarning: Do not pass an `input_shape`/`input_dim` argument to a layer. When using Sequential models, prefer using an `Input(shape)` object as the first layer in the model instead.\n",
      "  super().__init__(activity_regularizer=activity_regularizer, **kwargs)\n"
     ]
    },
    {
     "name": "stdout",
     "output_type": "stream",
     "text": [
      "\u001b[1m512/512\u001b[0m \u001b[32m━━━━━━━━━━━━━━━━━━━━\u001b[0m\u001b[37m\u001b[0m \u001b[1m3s\u001b[0m 2ms/step - accuracy: 0.6619 - loss: 1117.7996 - val_accuracy: 0.5977 - val_loss: 225.2805\n",
      "Epoch 2/10\n",
      "\u001b[1m512/512\u001b[0m \u001b[32m━━━━━━━━━━━━━━━━━━━━\u001b[0m\u001b[37m\u001b[0m \u001b[1m1s\u001b[0m 2ms/step - accuracy: 0.6721 - loss: 208.9396 - val_accuracy: 0.7531 - val_loss: 258.7716\n",
      "Epoch 3/10\n",
      "\u001b[1m512/512\u001b[0m \u001b[32m━━━━━━━━━━━━━━━━━━━━\u001b[0m\u001b[37m\u001b[0m \u001b[1m1s\u001b[0m 2ms/step - accuracy: 0.6883 - loss: 188.6716 - val_accuracy: 0.7421 - val_loss: 158.0989\n",
      "Epoch 4/10\n",
      "\u001b[1m512/512\u001b[0m \u001b[32m━━━━━━━━━━━━━━━━━━━━\u001b[0m\u001b[37m\u001b[0m \u001b[1m1s\u001b[0m 2ms/step - accuracy: 0.6835 - loss: 165.5310 - val_accuracy: 0.7447 - val_loss: 118.9682\n",
      "Epoch 5/10\n",
      "\u001b[1m512/512\u001b[0m \u001b[32m━━━━━━━━━━━━━━━━━━━━\u001b[0m\u001b[37m\u001b[0m \u001b[1m1s\u001b[0m 2ms/step - accuracy: 0.6768 - loss: 154.4736 - val_accuracy: 0.6500 - val_loss: 96.9033\n",
      "Epoch 6/10\n",
      "\u001b[1m512/512\u001b[0m \u001b[32m━━━━━━━━━━━━━━━━━━━━\u001b[0m\u001b[37m\u001b[0m \u001b[1m1s\u001b[0m 2ms/step - accuracy: 0.6852 - loss: 123.7260 - val_accuracy: 0.7306 - val_loss: 103.8637\n",
      "Epoch 7/10\n",
      "\u001b[1m512/512\u001b[0m \u001b[32m━━━━━━━━━━━━━━━━━━━━\u001b[0m\u001b[37m\u001b[0m \u001b[1m1s\u001b[0m 2ms/step - accuracy: 0.6856 - loss: 85.1747 - val_accuracy: 0.7560 - val_loss: 65.8592\n",
      "Epoch 8/10\n",
      "\u001b[1m512/512\u001b[0m \u001b[32m━━━━━━━━━━━━━━━━━━━━\u001b[0m\u001b[37m\u001b[0m \u001b[1m1s\u001b[0m 2ms/step - accuracy: 0.6838 - loss: 86.8385 - val_accuracy: 0.6646 - val_loss: 61.4297\n",
      "Epoch 9/10\n",
      "\u001b[1m512/512\u001b[0m \u001b[32m━━━━━━━━━━━━━━━━━━━━\u001b[0m\u001b[37m\u001b[0m \u001b[1m1s\u001b[0m 2ms/step - accuracy: 0.6864 - loss: 98.0851 - val_accuracy: 0.5349 - val_loss: 125.8631\n",
      "Epoch 10/10\n",
      "\u001b[1m512/512\u001b[0m \u001b[32m━━━━━━━━━━━━━━━━━━━━\u001b[0m\u001b[37m\u001b[0m \u001b[1m1s\u001b[0m 2ms/step - accuracy: 0.6895 - loss: 69.5998 - val_accuracy: 0.7308 - val_loss: 48.7275\n",
      "\u001b[1m160/160\u001b[0m \u001b[32m━━━━━━━━━━━━━━━━━━━━\u001b[0m\u001b[37m\u001b[0m \u001b[1m0s\u001b[0m 1ms/step - accuracy: 0.7452 - loss: 47.1417\n",
      "Test Accuracy: 0.7520031332969666\n"
     ]
    }
   ],
   "source": [
    "import pandas as pd\n",
    "from sklearn.model_selection import train_test_split\n",
    "from tensorflow import keras\n",
    "from tensorflow.keras import layers\n",
    "\n",
    "X = df[[\"X1\",\"X2\",\"X3\",\"X4\",\"X5\",\"X6\",\"X7\",\"X8\",\"X9\",\"X10\",\"X11\",\"X12\",\"X13\",\"X14\",\"X15\",\"X16\",\"X17\",\"X18\",\"X19\",\"X20\",\"X21\",\"X22\",\"X23\",\"X24\",\"X25\",\"X26\",\"X27\",\"X28\",\"X29\"]]\n",
    "Y = df['Y']\n",
    "\n",
    "X_train, X_test, Y_train, Y_test = train_test_split(X, Y, test_size=0.2, random_state=42)\n",
    "\n",
    "model = keras.Sequential([\n",
    "    layers.Dense(64, activation='relu', input_shape=(X_train.shape[1],)),\n",
    "    layers.Dense(32, activation='relu'),\n",
    "    layers.Dense(1, activation='sigmoid')\n",
    "])\n",
    "\n",
    "model.compile(optimizer='adam', loss='binary_crossentropy', metrics=['accuracy'])\n",
    "\n",
    "history = model.fit(X_train, Y_train, epochs=10, batch_size=32, validation_split=0.2)\n",
    "\n",
    "test_loss, test_accuracy = model.evaluate(X_test, Y_test)\n",
    "print(\"Test Accuracy:\", test_accuracy)"
   ]
  },
  {
   "cell_type": "markdown",
   "metadata": {},
   "source": [
    "### Solo las variables numéricas"
   ]
  },
  {
   "cell_type": "code",
   "execution_count": 3,
   "metadata": {},
   "outputs": [
    {
     "name": "stdout",
     "output_type": "stream",
     "text": [
      "Epoch 1/10\n",
      "512/512 [==============================] - 2s 3ms/step - loss: 407.2944 - accuracy: 0.6784 - val_loss: 242.2872 - val_accuracy: 0.7548\n",
      "Epoch 2/10\n",
      "512/512 [==============================] - 1s 2ms/step - loss: 138.5251 - accuracy: 0.6853 - val_loss: 108.4363 - val_accuracy: 0.7220\n",
      "Epoch 3/10\n",
      "512/512 [==============================] - 1s 2ms/step - loss: 118.0995 - accuracy: 0.6803 - val_loss: 49.5598 - val_accuracy: 0.6979\n",
      "Epoch 4/10\n",
      "512/512 [==============================] - 1s 2ms/step - loss: 82.3632 - accuracy: 0.6832 - val_loss: 41.6443 - val_accuracy: 0.7062\n",
      "Epoch 5/10\n",
      "512/512 [==============================] - 1s 2ms/step - loss: 73.2675 - accuracy: 0.6791 - val_loss: 57.8684 - val_accuracy: 0.6424\n",
      "Epoch 6/10\n",
      "512/512 [==============================] - 1s 2ms/step - loss: 64.6024 - accuracy: 0.6860 - val_loss: 69.8966 - val_accuracy: 0.7557\n",
      "Epoch 7/10\n",
      "512/512 [==============================] - 1s 2ms/step - loss: 53.1060 - accuracy: 0.6837 - val_loss: 37.8246 - val_accuracy: 0.7482\n",
      "Epoch 8/10\n",
      "512/512 [==============================] - 1s 2ms/step - loss: 40.6500 - accuracy: 0.6862 - val_loss: 34.1881 - val_accuracy: 0.6827\n",
      "Epoch 9/10\n",
      "512/512 [==============================] - 1s 2ms/step - loss: 46.3322 - accuracy: 0.6837 - val_loss: 29.1693 - val_accuracy: 0.5674\n",
      "Epoch 10/10\n",
      "512/512 [==============================] - 1s 2ms/step - loss: 30.9878 - accuracy: 0.6882 - val_loss: 22.8133 - val_accuracy: 0.6993\n",
      "160/160 [==============================] - 0s 2ms/step - loss: 27.9042 - accuracy: 0.7041\n",
      "Test Accuracy: 0.7041234970092773\n"
     ]
    }
   ],
   "source": [
    "import pandas as pd\n",
    "from sklearn.model_selection import train_test_split\n",
    "from tensorflow import keras\n",
    "from tensorflow.keras import layers\n",
    "\n",
    "X = df[[\"X1\",\"X5\",\"X12\",\"X13\",\"X14\",\"X15\",\"X16\",\"X17\",\"X18\",\"X19\",\"X20\",\"X21\",\"X22\",\"X23\"]]\n",
    "Y = df['Y']\n",
    "\n",
    "X_train, X_test, Y_train, Y_test = train_test_split(X, Y, test_size=0.2, random_state=42)\n",
    "\n",
    "model = keras.Sequential([\n",
    "    layers.Dense(64, activation='relu', input_shape=(X_train.shape[1],)),\n",
    "    layers.Dense(32, activation='relu'),\n",
    "    layers.Dense(1, activation='sigmoid')\n",
    "])\n",
    "\n",
    "model.compile(optimizer='adam', loss='binary_crossentropy', metrics=['accuracy'])\n",
    "\n",
    "history = model.fit(X_train, Y_train, epochs=10, batch_size=32, validation_split=0.2)\n",
    "\n",
    "test_loss, test_accuracy = model.evaluate(X_test, Y_test)\n",
    "print(\"Test Accuracy:\", test_accuracy)"
   ]
  },
  {
   "cell_type": "markdown",
   "metadata": {},
   "source": [
    "### Solo las variables categóricas"
   ]
  },
  {
   "cell_type": "code",
   "execution_count": 4,
   "metadata": {},
   "outputs": [
    {
     "name": "stdout",
     "output_type": "stream",
     "text": [
      "Epoch 1/10\n",
      "512/512 [==============================] - 2s 3ms/step - loss: 0.4565 - accuracy: 0.8045 - val_loss: 0.4630 - val_accuracy: 0.8056\n",
      "Epoch 2/10\n",
      "512/512 [==============================] - 1s 2ms/step - loss: 0.4483 - accuracy: 0.8098 - val_loss: 0.4629 - val_accuracy: 0.8046\n",
      "Epoch 3/10\n",
      "512/512 [==============================] - 1s 2ms/step - loss: 0.4482 - accuracy: 0.8117 - val_loss: 0.4636 - val_accuracy: 0.8041\n",
      "Epoch 4/10\n",
      "512/512 [==============================] - 1s 2ms/step - loss: 0.4467 - accuracy: 0.8124 - val_loss: 0.4690 - val_accuracy: 0.8036\n",
      "Epoch 5/10\n",
      "512/512 [==============================] - 1s 2ms/step - loss: 0.4460 - accuracy: 0.8126 - val_loss: 0.4679 - val_accuracy: 0.8000\n",
      "Epoch 6/10\n",
      "512/512 [==============================] - 1s 2ms/step - loss: 0.4455 - accuracy: 0.8122 - val_loss: 0.4672 - val_accuracy: 0.7990\n",
      "Epoch 7/10\n",
      "512/512 [==============================] - 1s 2ms/step - loss: 0.4449 - accuracy: 0.8119 - val_loss: 0.4648 - val_accuracy: 0.8019\n",
      "Epoch 8/10\n",
      "512/512 [==============================] - 1s 2ms/step - loss: 0.4453 - accuracy: 0.8127 - val_loss: 0.4657 - val_accuracy: 0.8002\n",
      "Epoch 9/10\n",
      "512/512 [==============================] - 1s 2ms/step - loss: 0.4436 - accuracy: 0.8140 - val_loss: 0.4693 - val_accuracy: 0.7948\n",
      "Epoch 10/10\n",
      "512/512 [==============================] - 1s 2ms/step - loss: 0.4440 - accuracy: 0.8140 - val_loss: 0.4649 - val_accuracy: 0.8034\n",
      "160/160 [==============================] - 0s 2ms/step - loss: 0.4477 - accuracy: 0.8151\n",
      "Test Accuracy: 0.8151260614395142\n"
     ]
    }
   ],
   "source": [
    "import pandas as pd\n",
    "from sklearn.model_selection import train_test_split\n",
    "from tensorflow import keras\n",
    "from tensorflow.keras import layers\n",
    "\n",
    "X = df[[\"X2\",\"X3\",\"X4\",\"X6\",\"X7\",\"X8\",\"X9\",\"X10\",\"X11\",\"X24\",\"X25\",\"X26\",\"X27\",\"X28\",\"X29\"]]\n",
    "Y = df['Y']\n",
    "\n",
    "X_train, X_test, Y_train, Y_test = train_test_split(X, Y, test_size=0.2, random_state=42)\n",
    "\n",
    "model = keras.Sequential([\n",
    "    layers.Dense(64, activation='relu', input_shape=(X_train.shape[1],)),\n",
    "    layers.Dense(32, activation='relu'),\n",
    "    layers.Dense(1, activation='sigmoid')\n",
    "])\n",
    "\n",
    "model.compile(optimizer='adam', loss='binary_crossentropy', metrics=['accuracy'])\n",
    "\n",
    "history = model.fit(X_train, Y_train, epochs=10, batch_size=32, validation_split=0.2)\n",
    "\n",
    "test_loss, test_accuracy = model.evaluate(X_test, Y_test)\n",
    "print(\"Test Accuracy:\", test_accuracy)"
   ]
  },
  {
   "cell_type": "markdown",
   "metadata": {},
   "source": [
    "### Variables significativas de un modelo de regresión logística"
   ]
  },
  {
   "cell_type": "code",
   "execution_count": 5,
   "metadata": {},
   "outputs": [
    {
     "name": "stdout",
     "output_type": "stream",
     "text": [
      "Epoch 1/10\n",
      "512/512 [==============================] - 2s 3ms/step - loss: 229.4151 - accuracy: 0.6751 - val_loss: 80.6960 - val_accuracy: 0.6392\n",
      "Epoch 2/10\n",
      "512/512 [==============================] - 1s 2ms/step - loss: 112.5727 - accuracy: 0.6848 - val_loss: 42.6647 - val_accuracy: 0.6473\n",
      "Epoch 3/10\n",
      "512/512 [==============================] - 1s 2ms/step - loss: 86.6106 - accuracy: 0.6799 - val_loss: 119.8271 - val_accuracy: 0.4179\n",
      "Epoch 4/10\n",
      "512/512 [==============================] - 1s 2ms/step - loss: 74.5811 - accuracy: 0.6836 - val_loss: 89.2815 - val_accuracy: 0.3908\n",
      "Epoch 5/10\n",
      "512/512 [==============================] - 1s 2ms/step - loss: 83.5280 - accuracy: 0.6813 - val_loss: 200.7564 - val_accuracy: 0.7557\n",
      "Epoch 6/10\n",
      "512/512 [==============================] - 1s 2ms/step - loss: 76.3775 - accuracy: 0.6861 - val_loss: 66.1626 - val_accuracy: 0.5620\n",
      "Epoch 7/10\n",
      "512/512 [==============================] - 1s 2ms/step - loss: 67.3734 - accuracy: 0.6869 - val_loss: 52.5798 - val_accuracy: 0.7484\n",
      "Epoch 8/10\n",
      "512/512 [==============================] - 1s 2ms/step - loss: 81.4478 - accuracy: 0.6893 - val_loss: 43.2336 - val_accuracy: 0.7562\n",
      "Epoch 9/10\n",
      "512/512 [==============================] - 1s 2ms/step - loss: 57.9361 - accuracy: 0.6835 - val_loss: 91.3195 - val_accuracy: 0.7572\n",
      "Epoch 10/10\n",
      "512/512 [==============================] - 1s 2ms/step - loss: 58.3859 - accuracy: 0.6836 - val_loss: 70.0922 - val_accuracy: 0.5999\n",
      "160/160 [==============================] - 0s 2ms/step - loss: 72.6361 - accuracy: 0.5761\n",
      "Test Accuracy: 0.5761188268661499\n"
     ]
    }
   ],
   "source": [
    "import pandas as pd\n",
    "from sklearn.model_selection import train_test_split\n",
    "from tensorflow import keras\n",
    "from tensorflow.keras import layers\n",
    "\n",
    "X = df[[\"X1\",\"X2\",\"X3\",\"X4\",\"X6\",\"X7\",\"X8\",\"X9\",\"X10\",\"X11\",\"X12\",\"X13\",\"X14\",\"X18\",\"X19\",\"X24\",\"X25\",\"X26\",\"X27\",\"X29\"]]\n",
    "Y = df['Y']\n",
    "\n",
    "X_train, X_test, Y_train, Y_test = train_test_split(X, Y, test_size=0.2, random_state=42)\n",
    "\n",
    "model = keras.Sequential([\n",
    "    layers.Dense(64, activation='relu', input_shape=(X_train.shape[1],)),\n",
    "    layers.Dense(32, activation='relu'),\n",
    "    layers.Dense(1, activation='sigmoid')\n",
    "])\n",
    "\n",
    "model.compile(optimizer='adam', loss='binary_crossentropy', metrics=['accuracy'])\n",
    "\n",
    "history = model.fit(X_train, Y_train, epochs=10, batch_size=32, validation_split=0.2)\n",
    "\n",
    "test_loss, test_accuracy = model.evaluate(X_test, Y_test)\n",
    "print(\"Test Accuracy:\", test_accuracy)"
   ]
  },
  {
   "cell_type": "markdown",
   "metadata": {},
   "source": [
    "### Hasta este punto, es mejor usar solo el de variables categóricas. Por esto entonces se valida si la inclusión de alguna variable numérica mejora el Test Accuracy"
   ]
  },
  {
   "cell_type": "code",
   "execution_count": 8,
   "metadata": {},
   "outputs": [
    {
     "name": "stdout",
     "output_type": "stream",
     "text": [
      "Epoch 1/10\n",
      "512/512 [==============================] - 2s 3ms/step - loss: 0.4704 - accuracy: 0.7998 - val_loss: 0.4906 - val_accuracy: 0.7929\n",
      "Epoch 2/10\n",
      "512/512 [==============================] - 1s 2ms/step - loss: 0.4570 - accuracy: 0.8054 - val_loss: 0.5099 - val_accuracy: 0.7853\n",
      "Epoch 3/10\n",
      "512/512 [==============================] - 1s 2ms/step - loss: 0.4571 - accuracy: 0.8081 - val_loss: 0.4674 - val_accuracy: 0.8068\n",
      "Epoch 4/10\n",
      "512/512 [==============================] - 1s 2ms/step - loss: 0.4558 - accuracy: 0.8085 - val_loss: 0.4673 - val_accuracy: 0.8073\n",
      "Epoch 5/10\n",
      "512/512 [==============================] - 1s 2ms/step - loss: 0.4546 - accuracy: 0.8082 - val_loss: 0.4743 - val_accuracy: 0.7987\n",
      "Epoch 6/10\n",
      "512/512 [==============================] - 1s 2ms/step - loss: 0.4521 - accuracy: 0.8091 - val_loss: 0.4706 - val_accuracy: 0.7978\n",
      "Epoch 7/10\n",
      "512/512 [==============================] - 1s 2ms/step - loss: 0.4531 - accuracy: 0.8093 - val_loss: 0.4772 - val_accuracy: 0.7978\n",
      "Epoch 8/10\n",
      "512/512 [==============================] - 1s 2ms/step - loss: 0.4519 - accuracy: 0.8103 - val_loss: 0.4655 - val_accuracy: 0.8024\n",
      "Epoch 9/10\n",
      "512/512 [==============================] - 1s 2ms/step - loss: 0.4484 - accuracy: 0.8098 - val_loss: 0.4717 - val_accuracy: 0.8004\n",
      "Epoch 10/10\n",
      "512/512 [==============================] - 1s 2ms/step - loss: 0.4493 - accuracy: 0.8096 - val_loss: 0.4723 - val_accuracy: 0.7934\n",
      "160/160 [==============================] - 0s 2ms/step - loss: 0.4517 - accuracy: 0.8026\n",
      "Test Accuracy: 0.8026187419891357\n"
     ]
    }
   ],
   "source": [
    "import pandas as pd\n",
    "from sklearn.model_selection import train_test_split\n",
    "from tensorflow import keras\n",
    "from tensorflow.keras import layers\n",
    "\n",
    "X = df[[\"X2\",\"X3\",\"X4\",\"X5\",\"X6\",\"X7\",\"X8\",\"X9\",\"X10\",\"X11\",\"X24\",\"X25\",\"X26\",\"X27\",\"X28\",\"X29\"]]\n",
    "Y = df['Y']\n",
    "\n",
    "X_train, X_test, Y_train, Y_test = train_test_split(X, Y, test_size=0.2, random_state=42)\n",
    "\n",
    "model = keras.Sequential([\n",
    "    layers.Dense(64, activation='relu', input_shape=(X_train.shape[1],)),\n",
    "    layers.Dense(32, activation='relu'),\n",
    "    layers.Dense(1, activation='sigmoid')\n",
    "])\n",
    "\n",
    "model.compile(optimizer='adam', loss='binary_crossentropy', metrics=['accuracy'])\n",
    "\n",
    "history = model.fit(X_train, Y_train, epochs=10, batch_size=32, validation_split=0.2)\n",
    "\n",
    "test_loss, test_accuracy = model.evaluate(X_test, Y_test)\n",
    "print(\"Test Accuracy:\", test_accuracy)"
   ]
  },
  {
   "cell_type": "markdown",
   "metadata": {},
   "source": [
    "### Incluir la edad no mejora el Test Accuracy, sin embargo tampoco lo desmejora significativamente. Por esto, se considera dejar la edad en el modelo pues puede ser interesante incluirla y obtener un análisis con esta variable"
   ]
  },
  {
   "cell_type": "markdown",
   "metadata": {},
   "source": [
    "#### Finalmente entonces las variables a tener en cuenta para modelar la red son:"
   ]
  },
  {
   "cell_type": "code",
   "execution_count": 11,
   "metadata": {},
   "outputs": [],
   "source": [
    "X = df[[\"X2\",\"X3\",\"X4\",\"X5\",\"X6\",\"X7\",\"X8\",\"X9\",\"X10\",\"X11\",\"X24\",\"X25\",\"X26\",\"X27\",\"X28\",\"X29\"]]"
   ]
  },
  {
   "cell_type": "markdown",
   "metadata": {},
   "source": [
    "## El siguiente paso es encontrar que parámetros me cambian favorablemente el Test Accuracy"
   ]
  },
  {
   "cell_type": "markdown",
   "metadata": {},
   "source": [
    "### Se evaluan primeramente diferentes optimizadores"
   ]
  },
  {
   "cell_type": "code",
   "execution_count": 17,
   "metadata": {},
   "outputs": [
    {
     "name": "stdout",
     "output_type": "stream",
     "text": [
      "Test Accuracy with adam: 0.8125854730606079\n",
      "Test Accuracy with sgd: 0.8104358315467834\n",
      "Test Accuracy with adadelta: 0.7805354595184326\n",
      "Test Accuracy with adamax: 0.8127809166908264\n",
      "Test Accuracy with nadam: 0.8131718039512634\n",
      "Test Accuracy with ftrl: 0.7678326964378357\n",
      "Test Accuracy with rmsprop: 0.8108266592025757\n",
      "Test Accuracy with adam: 0.8125854730606079\n",
      "Test Accuracy with sgd: 0.8104358315467834\n",
      "Test Accuracy with adadelta: 0.7805354595184326\n",
      "Test Accuracy with adamax: 0.8127809166908264\n",
      "Test Accuracy with nadam: 0.8131718039512634\n",
      "Test Accuracy with ftrl: 0.7678326964378357\n",
      "Test Accuracy with rmsprop: 0.8108266592025757\n"
     ]
    }
   ],
   "source": [
    "import pandas as pd\n",
    "from sklearn.model_selection import train_test_split\n",
    "from tensorflow import keras\n",
    "from tensorflow.keras import layers\n",
    "\n",
    "# Lista de optimizadores\n",
    "optimizers = ['adam', 'sgd', 'adadelta', 'adamax', 'nadam', 'ftrl', 'rmsprop']\n",
    "\n",
    "test_accuracies = []\n",
    "\n",
    "for optimizer in optimizers:\n",
    "    model = keras.Sequential([\n",
    "        layers.Dense(64, activation='relu', input_shape=(X_train.shape[1],)),\n",
    "        layers.Dense(32, activation='relu'),\n",
    "        layers.Dense(1, activation='sigmoid')\n",
    "    ])\n",
    "\n",
    "    model.compile(optimizer=optimizer, loss='binary_crossentropy', metrics=['accuracy'])\n",
    "\n",
    "    history = model.fit(X_train, Y_train, epochs=10, batch_size=32, validation_split=0.2, verbose=0)\n",
    "\n",
    "    test_loss, test_accuracy = model.evaluate(X_test, Y_test, verbose=0)\n",
    "    test_accuracies.append(test_accuracy)\n",
    "    print(f\"Test Accuracy with {optimizer}: {test_accuracy}\")\n",
    "\n",
    "# Imprimir los resultados\n",
    "for i, optimizer in enumerate(optimizers):\n",
    "    print(f\"Test Accuracy with {optimizer}: {test_accuracies[i]}\")\n",
    "\n"
   ]
  },
  {
   "cell_type": "code",
   "execution_count": 18,
   "metadata": {},
   "outputs": [
    {
     "name": "stdout",
     "output_type": "stream",
     "text": [
      "El optimizador con la mayor precisión es 'nadam' con una precisión de 0.8131718039512634\n"
     ]
    }
   ],
   "source": [
    "best_optimizer = optimizers[test_accuracies.index(max(test_accuracies))]\n",
    "best_accuracy = max(test_accuracies)\n",
    "\n",
    "print(f\"El optimizador con la mayor precisión es '{best_optimizer}' con una precisión de {best_accuracy}\")\n"
   ]
  },
  {
   "cell_type": "markdown",
   "metadata": {},
   "source": [
    "#### Nadam es entonces el optimizador que tiene mayor Test Accuracy"
   ]
  },
  {
   "cell_type": "markdown",
   "metadata": {},
   "source": [
    "### Se evalua entonces el tipo de capas y si este factor cambia favorablemente el Test Accuracy"
   ]
  },
  {
   "cell_type": "code",
   "execution_count": 21,
   "metadata": {},
   "outputs": [
    {
     "name": "stdout",
     "output_type": "stream",
     "text": [
      "160/160 [==============================] - 0s 2ms/step - loss: 0.4552 - accuracy: 0.8087\n",
      "Test Accuracy with relu activation in layer 1 and relu activation in layer 2: 0.8086769580841064\n",
      "160/160 [==============================] - 0s 1ms/step - loss: 0.4483 - accuracy: 0.8141\n",
      "Test Accuracy with relu activation in layer 1 and tanh activation in layer 2: 0.8141489028930664\n",
      "160/160 [==============================] - 0s 1ms/step - loss: 0.4488 - accuracy: 0.8124\n",
      "Test Accuracy with relu activation in layer 1 and elu activation in layer 2: 0.8123900890350342\n",
      "160/160 [==============================] - 0s 1ms/step - loss: 0.4669 - accuracy: 0.8065\n",
      "Test Accuracy with relu activation in layer 1 and selu activation in layer 2: 0.8065272569656372\n",
      "160/160 [==============================] - 0s 1ms/step - loss: 0.4548 - accuracy: 0.8112\n",
      "Test Accuracy with tanh activation in layer 1 and relu activation in layer 2: 0.8112174868583679\n",
      "160/160 [==============================] - 0s 1ms/step - loss: 0.4618 - accuracy: 0.8136\n",
      "Test Accuracy with tanh activation in layer 1 and tanh activation in layer 2: 0.8135626316070557\n",
      "160/160 [==============================] - 0s 2ms/step - loss: 0.4517 - accuracy: 0.8075\n",
      "Test Accuracy with tanh activation in layer 1 and elu activation in layer 2: 0.807504415512085\n",
      "160/160 [==============================] - 0s 1ms/step - loss: 0.4477 - accuracy: 0.8145\n",
      "Test Accuracy with tanh activation in layer 1 and selu activation in layer 2: 0.8145397901535034\n",
      "160/160 [==============================] - 0s 2ms/step - loss: 0.4513 - accuracy: 0.8095\n",
      "Test Accuracy with elu activation in layer 1 and relu activation in layer 2: 0.8094586730003357\n",
      "160/160 [==============================] - 0s 1ms/step - loss: 0.4468 - accuracy: 0.8165\n",
      "Test Accuracy with elu activation in layer 1 and tanh activation in layer 2: 0.8164940476417542\n",
      "160/160 [==============================] - 0s 1ms/step - loss: 0.4931 - accuracy: 0.7958\n",
      "Test Accuracy with elu activation in layer 1 and elu activation in layer 2: 0.795778751373291\n",
      "160/160 [==============================] - 0s 2ms/step - loss: 0.4511 - accuracy: 0.8116\n",
      "Test Accuracy with elu activation in layer 1 and selu activation in layer 2: 0.8116083741188049\n",
      "160/160 [==============================] - 0s 1ms/step - loss: 0.4491 - accuracy: 0.8112\n",
      "Test Accuracy with selu activation in layer 1 and relu activation in layer 2: 0.8112174868583679\n",
      "160/160 [==============================] - 0s 1ms/step - loss: 0.4502 - accuracy: 0.8081\n",
      "Test Accuracy with selu activation in layer 1 and tanh activation in layer 2: 0.8080906867980957\n",
      "160/160 [==============================] - 0s 2ms/step - loss: 0.4535 - accuracy: 0.8091\n",
      "Test Accuracy with selu activation in layer 1 and elu activation in layer 2: 0.8090677857398987\n",
      "160/160 [==============================] - 0s 2ms/step - loss: 0.4623 - accuracy: 0.8077\n",
      "Test Accuracy with selu activation in layer 1 and selu activation in layer 2: 0.8076997995376587\n",
      "La mejor configuración es ('elu', 'tanh') con un test accuracy de 0.8164940476417542\n"
     ]
    }
   ],
   "source": [
    "import pandas as pd\n",
    "from sklearn.model_selection import train_test_split\n",
    "from tensorflow import keras\n",
    "from tensorflow.keras import layers\n",
    "\n",
    "activation_functions = ['relu', 'tanh', 'elu', 'selu']\n",
    "test_accuracies = {}\n",
    "\n",
    "for activation1 in activation_functions:\n",
    "    for activation2 in activation_functions:\n",
    "        model = keras.Sequential([\n",
    "            layers.Dense(64, activation=activation1, input_shape=(X_train.shape[1],)),\n",
    "            layers.Dense(32, activation=activation2),\n",
    "            layers.Dense(1, activation='sigmoid')\n",
    "        ])\n",
    "\n",
    "        model.compile(optimizer='nadam', loss='binary_crossentropy', metrics=['accuracy'])\n",
    "\n",
    "        history = model.fit(X_train, Y_train, epochs=10, batch_size=32, validation_split=0.2, verbose=0)\n",
    "\n",
    "        test_loss, test_accuracy = model.evaluate(X_test, Y_test)\n",
    "        \n",
    "        test_accuracies[(activation1, activation2)] = test_accuracy\n",
    "        \n",
    "        print(f\"Test Accuracy with {activation1} activation in layer 1 and {activation2} activation in layer 2: {test_accuracy}\")\n",
    "\n",
    "best_config = max(test_accuracies, key=test_accuracies.get)\n",
    "best_accuracy = test_accuracies[best_config]\n",
    "\n",
    "print(f\"La mejor configuración es {best_config} con un test accuracy de {best_accuracy}\")\n"
   ]
  },
  {
   "cell_type": "markdown",
   "metadata": {},
   "source": [
    "#### La mejor combinación de capas es elu y tanh"
   ]
  },
  {
   "cell_type": "markdown",
   "metadata": {},
   "source": [
    "### Ahora se evalúa el número de neuronas para cada capa"
   ]
  },
  {
   "cell_type": "code",
   "execution_count": 23,
   "metadata": {},
   "outputs": [
    {
     "name": "stdout",
     "output_type": "stream",
     "text": [
      "160/160 [==============================] - 0s 1ms/step - loss: 0.4470 - accuracy: 0.8145\n",
      "Test Accuracy with 16 neurons in layer 1 and 8 neurons in layer 2: 0.8145397901535034\n",
      "160/160 [==============================] - 0s 2ms/step - loss: 0.4477 - accuracy: 0.8130\n",
      "Test Accuracy with 16 neurons in layer 1 and 16 neurons in layer 2: 0.8129763603210449\n",
      "160/160 [==============================] - 0s 1ms/step - loss: 0.4525 - accuracy: 0.8095\n",
      "Test Accuracy with 16 neurons in layer 1 and 32 neurons in layer 2: 0.8094586730003357\n",
      "160/160 [==============================] - 0s 1ms/step - loss: 0.4488 - accuracy: 0.8118\n",
      "Test Accuracy with 16 neurons in layer 1 and 64 neurons in layer 2: 0.8118038177490234\n",
      "160/160 [==============================] - 0s 1ms/step - loss: 0.4515 - accuracy: 0.8061\n",
      "Test Accuracy with 32 neurons in layer 1 and 8 neurons in layer 2: 0.806136429309845\n",
      "160/160 [==============================] - 0s 1ms/step - loss: 0.4473 - accuracy: 0.8140\n",
      "Test Accuracy with 32 neurons in layer 1 and 16 neurons in layer 2: 0.8139534592628479\n",
      "160/160 [==============================] - 0s 2ms/step - loss: 0.4524 - accuracy: 0.8134\n",
      "Test Accuracy with 32 neurons in layer 1 and 32 neurons in layer 2: 0.8133671879768372\n",
      "160/160 [==============================] - 0s 1ms/step - loss: 0.4484 - accuracy: 0.8120\n",
      "Test Accuracy with 32 neurons in layer 1 and 64 neurons in layer 2: 0.8119992017745972\n",
      "160/160 [==============================] - 0s 2ms/step - loss: 0.4491 - accuracy: 0.8149\n",
      "Test Accuracy with 64 neurons in layer 1 and 8 neurons in layer 2: 0.8149306178092957\n",
      "160/160 [==============================] - 0s 1ms/step - loss: 0.4485 - accuracy: 0.8134\n",
      "Test Accuracy with 64 neurons in layer 1 and 16 neurons in layer 2: 0.8133671879768372\n",
      "160/160 [==============================] - 0s 1ms/step - loss: 0.4491 - accuracy: 0.8116\n",
      "Test Accuracy with 64 neurons in layer 1 and 32 neurons in layer 2: 0.8116083741188049\n",
      "160/160 [==============================] - 0s 2ms/step - loss: 0.4517 - accuracy: 0.8149\n",
      "Test Accuracy with 64 neurons in layer 1 and 64 neurons in layer 2: 0.8149306178092957\n",
      "160/160 [==============================] - 0s 1ms/step - loss: 0.4484 - accuracy: 0.8134\n",
      "Test Accuracy with 128 neurons in layer 1 and 8 neurons in layer 2: 0.8133671879768372\n",
      "160/160 [==============================] - 0s 1ms/step - loss: 0.4507 - accuracy: 0.8087\n",
      "Test Accuracy with 128 neurons in layer 1 and 16 neurons in layer 2: 0.8086769580841064\n",
      "160/160 [==============================] - 0s 2ms/step - loss: 0.4529 - accuracy: 0.8110\n",
      "Test Accuracy with 128 neurons in layer 1 and 32 neurons in layer 2: 0.8110221028327942\n",
      "160/160 [==============================] - 0s 2ms/step - loss: 0.4493 - accuracy: 0.8145\n",
      "Test Accuracy with 128 neurons in layer 1 and 64 neurons in layer 2: 0.8145397901535034\n",
      "The best configuration is (64, 8) with a test accuracy of 0.8149306178092957\n"
     ]
    }
   ],
   "source": [
    "import pandas as pd\n",
    "from sklearn.model_selection import train_test_split\n",
    "from tensorflow import keras\n",
    "from tensorflow.keras import layers\n",
    "\n",
    "# Definir la lista de números de neuronas para las capas ocultas\n",
    "neurons_layer1 = [16, 32, 64, 128]\n",
    "neurons_layer2 = [8, 16, 32, 64]\n",
    "\n",
    "test_accuracies = {}\n",
    "\n",
    "for neurons1 in neurons_layer1:\n",
    "    for neurons2 in neurons_layer2:\n",
    "        model = keras.Sequential([\n",
    "            layers.Dense(neurons1, activation='elu', input_shape=(X_train.shape[1],)),\n",
    "            layers.Dense(neurons2, activation='tanh'),\n",
    "            layers.Dense(1, activation='sigmoid')\n",
    "        ])\n",
    "\n",
    "        model.compile(optimizer='nadam', loss='binary_crossentropy', metrics=['accuracy'])\n",
    "\n",
    "        history = model.fit(X_train, Y_train, epochs=10, batch_size=32, validation_split=0.2, verbose=0)\n",
    "\n",
    "        test_loss, test_accuracy = model.evaluate(X_test, Y_test)\n",
    "        \n",
    "        test_accuracies[(neurons1, neurons2)] = test_accuracy\n",
    "        \n",
    "        print(f\"Test Accuracy with {neurons1} neurons in layer 1 and {neurons2} neurons in layer 2: {test_accuracy}\")\n",
    "\n",
    "best_config = max(test_accuracies, key=test_accuracies.get)\n",
    "best_accuracy = test_accuracies[best_config]\n",
    "\n",
    "print(f\"The best configuration is {best_config} with a test accuracy of {best_accuracy}\")\n"
   ]
  },
  {
   "cell_type": "markdown",
   "metadata": {},
   "source": [
    "#### La mejor configuración de neuronas es entonces 64 y 8"
   ]
  },
  {
   "cell_type": "markdown",
   "metadata": {},
   "source": [
    "## Finalmente se obtienen entonces la siguiente red"
   ]
  },
  {
   "cell_type": "code",
   "execution_count": 3,
   "metadata": {},
   "outputs": [
    {
     "name": "stdout",
     "output_type": "stream",
     "text": [
      "Epoch 1/10\n"
     ]
    },
    {
     "name": "stderr",
     "output_type": "stream",
     "text": [
      "c:\\Users\\ATova\\AppData\\Local\\Programs\\Python\\Python311\\Lib\\site-packages\\keras\\src\\layers\\core\\dense.py:87: UserWarning: Do not pass an `input_shape`/`input_dim` argument to a layer. When using Sequential models, prefer using an `Input(shape)` object as the first layer in the model instead.\n",
      "  super().__init__(activity_regularizer=activity_regularizer, **kwargs)\n"
     ]
    },
    {
     "name": "stdout",
     "output_type": "stream",
     "text": [
      "\u001b[1m512/512\u001b[0m \u001b[32m━━━━━━━━━━━━━━━━━━━━\u001b[0m\u001b[37m\u001b[0m \u001b[1m3s\u001b[0m 2ms/step - accuracy: 0.7196 - loss: 0.5872 - val_accuracy: 0.8024 - val_loss: 0.4723\n",
      "Epoch 2/10\n",
      "\u001b[1m512/512\u001b[0m \u001b[32m━━━━━━━━━━━━━━━━━━━━\u001b[0m\u001b[37m\u001b[0m \u001b[1m1s\u001b[0m 2ms/step - accuracy: 0.8049 - loss: 0.4585 - val_accuracy: 0.8046 - val_loss: 0.4668\n",
      "Epoch 3/10\n",
      "\u001b[1m512/512\u001b[0m \u001b[32m━━━━━━━━━━━━━━━━━━━━\u001b[0m\u001b[37m\u001b[0m \u001b[1m1s\u001b[0m 2ms/step - accuracy: 0.8128 - loss: 0.4509 - val_accuracy: 0.8061 - val_loss: 0.4659\n",
      "Epoch 4/10\n",
      "\u001b[1m512/512\u001b[0m \u001b[32m━━━━━━━━━━━━━━━━━━━━\u001b[0m\u001b[37m\u001b[0m \u001b[1m1s\u001b[0m 2ms/step - accuracy: 0.8122 - loss: 0.4467 - val_accuracy: 0.7985 - val_loss: 0.4674\n",
      "Epoch 5/10\n",
      "\u001b[1m512/512\u001b[0m \u001b[32m━━━━━━━━━━━━━━━━━━━━\u001b[0m\u001b[37m\u001b[0m \u001b[1m1s\u001b[0m 2ms/step - accuracy: 0.8095 - loss: 0.4468 - val_accuracy: 0.8065 - val_loss: 0.4640\n",
      "Epoch 6/10\n",
      "\u001b[1m512/512\u001b[0m \u001b[32m━━━━━━━━━━━━━━━━━━━━\u001b[0m\u001b[37m\u001b[0m \u001b[1m1s\u001b[0m 2ms/step - accuracy: 0.8109 - loss: 0.4457 - val_accuracy: 0.7980 - val_loss: 0.4687\n",
      "Epoch 7/10\n",
      "\u001b[1m512/512\u001b[0m \u001b[32m━━━━━━━━━━━━━━━━━━━━\u001b[0m\u001b[37m\u001b[0m \u001b[1m1s\u001b[0m 2ms/step - accuracy: 0.8165 - loss: 0.4403 - val_accuracy: 0.8029 - val_loss: 0.4649\n",
      "Epoch 8/10\n",
      "\u001b[1m512/512\u001b[0m \u001b[32m━━━━━━━━━━━━━━━━━━━━\u001b[0m\u001b[37m\u001b[0m \u001b[1m1s\u001b[0m 2ms/step - accuracy: 0.8111 - loss: 0.4460 - val_accuracy: 0.8036 - val_loss: 0.4754\n",
      "Epoch 9/10\n",
      "\u001b[1m512/512\u001b[0m \u001b[32m━━━━━━━━━━━━━━━━━━━━\u001b[0m\u001b[37m\u001b[0m \u001b[1m1s\u001b[0m 2ms/step - accuracy: 0.8140 - loss: 0.4461 - val_accuracy: 0.8058 - val_loss: 0.4660\n",
      "Epoch 10/10\n",
      "\u001b[1m512/512\u001b[0m \u001b[32m━━━━━━━━━━━━━━━━━━━━\u001b[0m\u001b[37m\u001b[0m \u001b[1m1s\u001b[0m 2ms/step - accuracy: 0.8084 - loss: 0.4495 - val_accuracy: 0.8058 - val_loss: 0.4644\n",
      "\u001b[1m160/160\u001b[0m \u001b[32m━━━━━━━━━━━━━━━━━━━━\u001b[0m\u001b[37m\u001b[0m \u001b[1m0s\u001b[0m 1ms/step - accuracy: 0.8068 - loss: 0.4562\n",
      "Test Accuracy: 0.8153215050697327\n"
     ]
    }
   ],
   "source": [
    "import pandas as pd\n",
    "from sklearn.model_selection import train_test_split\n",
    "from tensorflow import keras\n",
    "from tensorflow.keras import layers\n",
    "\n",
    "X = df[[\"X2\",\"X3\",\"X4\",\"X5\",\"X6\",\"X7\",\"X8\",\"X9\",\"X10\",\"X11\",\"X24\",\"X25\",\"X26\",\"X27\",\"X28\",\"X29\"]]\n",
    "Y = df['Y']\n",
    "\n",
    "X_train, X_test, Y_train, Y_test = train_test_split(X, Y, test_size=0.2, random_state=42)\n",
    "\n",
    "model = keras.Sequential([\n",
    "    layers.Dense(64, activation='elu', input_shape=(X_train.shape[1],)),\n",
    "    layers.Dense(8, activation='tanh'),\n",
    "    layers.Dense(1, activation='sigmoid')\n",
    "])\n",
    "\n",
    "model.compile(optimizer='nadam', loss='binary_crossentropy', metrics=['accuracy'])\n",
    "\n",
    "history = model.fit(X_train, Y_train, epochs=10, batch_size=32, validation_split=0.2)\n",
    "\n",
    "test_loss, test_accuracy = model.evaluate(X_test, Y_test)\n",
    "print(\"Test Accuracy:\", test_accuracy)"
   ]
  },
  {
   "cell_type": "markdown",
   "metadata": {},
   "source": [
    "## Predicciones del modelo"
   ]
  },
  {
   "cell_type": "code",
   "execution_count": 6,
   "metadata": {},
   "outputs": [
    {
     "name": "stdout",
     "output_type": "stream",
     "text": [
      "\u001b[1m160/160\u001b[0m \u001b[32m━━━━━━━━━━━━━━━━━━━━\u001b[0m\u001b[37m\u001b[0m \u001b[1m0s\u001b[0m 1ms/step\n",
      "       X2  X3  X4  X5  X6  X7  X8  X9  X10  X11  X24  X25  X26  X27  X28  X29  \\\n",
      "12858   1   1   2  28  -1  -1  -1  -1   -1   -1    1    1    1    1    1    1   \n",
      "640     1   2   1  38  -1  -1  -1  -1   -1   -1    1    1    1    1    1    1   \n",
      "14217   2   3   2  50  -1  -1  -1  -1   -1   -1    1    1    1    1    1    1   \n",
      "9633    2   1   1  33  -1  -1  -1  -1   -1   -1    1    1    1    1    1    1   \n",
      "21035   1   1   2  34   1   2   2   2    2    2    1    1    0    1    1    1   \n",
      "9134    2   3   1  51  -1  -1   2   2   -1   -1    1    0    0    1    1    0   \n",
      "19507   2   1   1  44  -1  -1  -1  -1   -1   -1    1    1    1    1    1    0   \n",
      "4794    2   3   1  60  -1  -1  -1  -1   -1   -1    1    1    0    1    0    0   \n",
      "13534   1   1   2  27  -1  -1  -1  -1   -1   -1    0    0    0    0    1    0   \n",
      "7976    1   2   2  26  -1  -1  -1  -1   -1   -1    1    1    1    1    1    1   \n",
      "\n",
      "       Predictions  Actual Labels  \n",
      "12858            0              0  \n",
      "640              0              0  \n",
      "14217            0              0  \n",
      "9633             0              1  \n",
      "21035            1              0  \n",
      "9134             0              1  \n",
      "19507            0              0  \n",
      "4794             0              0  \n",
      "13534            0              0  \n",
      "7976             0              0  \n"
     ]
    }
   ],
   "source": [
    "predictions = model.predict(X_test)\n",
    "\n",
    "binary_predictions = (predictions > 0.5).astype(\"int32\")\n",
    "\n",
    "X_test_df = pd.DataFrame(X_test, columns=X.columns)\n",
    "\n",
    "results_df = X_test_df.copy()\n",
    "results_df['Predictions'] = binary_predictions\n",
    "results_df['Actual Labels'] = Y_test.values\n",
    "\n",
    "print(results_df.head(10))"
   ]
  },
  {
   "cell_type": "code",
   "execution_count": 7,
   "metadata": {},
   "outputs": [
    {
     "name": "stderr",
     "output_type": "stream",
     "text": [
      "PermutationExplainer explainer: 5118it [02:34, 32.00it/s]                          \n"
     ]
    },
    {
     "data": {
      "image/png": "[encoded data removed]",
      "text/plain": [
       "<Figure size 800x790 with 2 Axes>"
      ]
     },
     "metadata": {},
     "output_type": "display_data"
    }
   ],
   "source": [
    "import shap\n",
    "\n",
    "explainer = shap.Explainer(model, X_train)\n",
    "\n",
    "shap_values = explainer.shap_values(X_test)\n",
    "\n",
    "shap.summary_plot(shap_values, X_test)"
   ]
  },
  {
   "cell_type": "code",
   "execution_count": 9,
   "metadata": {},
   "outputs": [
    {
     "name": "stderr",
     "output_type": "stream",
     "text": [
      "PermutationExplainer explainer: 5118it [02:50, 28.23it/s]                          \n"
     ]
    },
    {
     "data": {
      "image/png": "[encoded data removed]",
      "text/plain": [
       "<Figure size 1000x600 with 1 Axes>"
      ]
     },
     "metadata": {},
     "output_type": "display_data"
    }
   ],
   "source": [
    "import shap\n",
    "import numpy as np\n",
    "import matplotlib.pyplot as plt\n",
    "\n",
    "# Calcular los valores SHAP para el conjunto de prueba\n",
    "shap_values = explainer.shap_values(X_test)\n",
    "\n",
    "# Calcular la importancia promedio de las características\n",
    "mean_abs_shap_values = np.mean(np.abs(shap_values), axis=0)\n",
    "feature_names = X.columns\n",
    "\n",
    "# Crear un DataFrame para visualizar la importancia de las características\n",
    "importance_df = pd.DataFrame({'Feature': feature_names, 'Importance': mean_abs_shap_values})\n",
    "importance_df = importance_df.sort_values(by='Importance', ascending=False)\n",
    "\n",
    "# Visualizar la importancia de las características como una gráfica de barras\n",
    "plt.figure(figsize=(10, 6))\n",
    "plt.barh(importance_df['Feature'], importance_df['Importance'], color='skyblue')\n",
    "plt.xlabel('Importance')\n",
    "plt.ylabel('Feature')\n",
    "plt.title('Feature Importance')\n",
    "plt.gca().invert_yaxis()  # Invertir el eje y para mostrar la característica más importante en la parte superior\n",
    "plt.show()\n"
   ]
  }
 ],
 "metadata": {
  "kernelspec": {
   "display_name": "Python 3",
   "language": "python",
   "name": "python3"
  },
  "language_info": {
   "codemirror_mode": {
    "name": "ipython",
    "version": 3
   },
   "file_extension": ".py",
   "mimetype": "text/x-python",
   "name": "python",
   "nbconvert_exporter": "python",
   "pygments_lexer": "ipython3",
   "version": "3.11.7"
  }
 },
 "nbformat": 4,
 "nbformat_minor": 2
}
